{
  "cells": [
    {
      "cell_type": "markdown",
      "metadata": {
        "id": "4YSkHkYRPlbn"
      },
      "source": [
        "ENVIRONMENT SETUP"
      ]
    },
    {
      "cell_type": "code",
      "execution_count": null,
      "metadata": {
        "tags": [],
        "id": "WsoM976QPlbv"
      },
      "outputs": [],
      "source": [
        "!pip install gym_super_mario_bros==7.3.0 nes_py"
      ]
    },
    {
      "cell_type": "code",
      "execution_count": null,
      "metadata": {
        "id": "loSItiXkPlb1"
      },
      "outputs": [],
      "source": [
        "import gym_super_mario_bros\n",
        "from nes_py.wrappers import JoypadSpace\n",
        "from gym_super_mario_bros.actions import SIMPLE_MOVEMENT"
      ]
    },
    {
      "cell_type": "code",
      "execution_count": null,
      "metadata": {
        "id": "h_ka4hLjPlb7"
      },
      "outputs": [],
      "source": [
        "# Setup game\n",
        "env = gym_super_mario_bros.make('SuperMarioBros-v0')\n",
        "env = JoypadSpace(env, SIMPLE_MOVEMENT)"
      ]
    },
    {
      "cell_type": "code",
      "execution_count": null,
      "metadata": {
        "tags": [],
        "id": "j-W5h565Plb_"
      },
      "outputs": [],
      "source": [
        "done = True\n",
        "for step in range(100000): \n",
        "    if done: \n",
        "        env.reset()\n",
        "    state, reward, done, info = env.step(env.action_space.sample())\n",
        "    env.render()\n",
        "env.close()"
      ]
    },
    {
      "cell_type": "markdown",
      "metadata": {
        "id": "C6Tjs9kAPlcC"
      },
      "source": [
        "PREPROCESSING ENVIRNMENT"
      ]
    },
    {
      "cell_type": "code",
      "execution_count": null,
      "metadata": {
        "tags": [],
        "id": "c24M75KlPlcG"
      },
      "outputs": [],
      "source": [
        "!pip install torch==1.10.1+cu113 torchvision==0.11.2+cu113 torchaudio===0.10.1+cu113 -f https://download.pytorch.org/whl/cu113/torch_stable.html"
      ]
    },
    {
      "cell_type": "code",
      "execution_count": null,
      "metadata": {
        "tags": [],
        "id": "yNhZfwgsPlcI"
      },
      "outputs": [],
      "source": [
        "!pip install stable-baselines3[extra]"
      ]
    },
    {
      "cell_type": "code",
      "execution_count": null,
      "metadata": {
        "id": "yAhZWj6gPlcM"
      },
      "outputs": [],
      "source": [
        "from gym.wrappers import GrayScaleObservation\n",
        "from stable_baselines3.common.vec_env import VecFrameStack, DummyVecEnv\n",
        "from matplotlib import pyplot as plt"
      ]
    },
    {
      "cell_type": "code",
      "execution_count": null,
      "metadata": {
        "id": "2LR-z_fbPlcS"
      },
      "outputs": [],
      "source": [
        "env = gym_super_mario_bros.make('SuperMarioBros-v0')\n",
        "env = JoypadSpace(env, SIMPLE_MOVEMENT)\n",
        "env = GrayScaleObservation(env, keep_dim=True)\n",
        "env = DummyVecEnv([lambda: env])\n",
        "env = VecFrameStack(env, 4, channels_order='last')"
      ]
    },
    {
      "cell_type": "code",
      "execution_count": null,
      "metadata": {
        "id": "J0C3QU5WPlcW"
      },
      "outputs": [],
      "source": [
        "state = env.reset()"
      ]
    },
    {
      "cell_type": "code",
      "execution_count": null,
      "metadata": {
        "id": "crbu6eR6PlcZ"
      },
      "outputs": [],
      "source": [
        "state, reward, done, info = env.step([5])"
      ]
    },
    {
      "cell_type": "code",
      "execution_count": null,
      "metadata": {
        "colab": {
          "base_uri": "https://localhost:8080/",
          "height": 258
        },
        "id": "S7mcNMm1Plcc",
        "outputId": "3e2e1bdf-4c0b-42e5-9b0d-539598f16c4a"
      },
      "outputs": [
        {
          "output_type": "display_data",
          "data": {
            "text/plain": [
              "<Figure size 1440x1152 with 4 Axes>"
            ],
            "image/png": "[encoded data removed]"
          },
          "metadata": {
            "needs_background": "light"
          }
        }
      ],
      "source": [
        "plt.figure(figsize=(20,16))\n",
        "for idx in range(state.shape[3]):\n",
        "    plt.subplot(1,4,idx+1)\n",
        "    plt.imshow(state[0][:,:,idx])\n",
        "plt.show()"
      ]
    },
    {
      "cell_type": "markdown",
      "metadata": {
        "id": "EVi_wN4iPlce"
      },
      "source": [
        "TRAINING THE RL MODEL"
      ]
    },
    {
      "cell_type": "code",
      "execution_count": null,
      "metadata": {
        "id": "cr3shUFFPlcg"
      },
      "outputs": [],
      "source": [
        "import os \n",
        "from stable_baselines3 import PPO\n",
        "from stable_baselines3.common.callbacks import BaseCallback"
      ]
    },
    {
      "cell_type": "code",
      "execution_count": null,
      "metadata": {
        "jupyter": {
          "source_hidden": true
        },
        "tags": [],
        "id": "q5vQ2d18Plcj"
      },
      "outputs": [],
      "source": [
        "class TrainAndLoggingCallback(BaseCallback):\n",
        "    def __init__(self, check_freq, save_path, verbose=1):\n",
        "        super(TrainAndLoggingCallback, self).__init__(verbose)\n",
        "        self.check_freq = check_freq\n",
        "        self.save_path = save_path\n",
        "    def _init_callback(self):\n",
        "        if self.save_path is not None:\n",
        "            os.makedirs(self.save_path, exist_ok=True)\n",
        "    def _on_step(self):\n",
        "        if self.n_calls % self.check_freq == 0:\n",
        "            model_path = os.path.join(self.save_path, 'best_model_{}'.format(self.n_calls))\n",
        "            self.model.save(model_path)\n",
        "        return True"
      ]
    },
    {
      "cell_type": "code",
      "execution_count": null,
      "metadata": {
        "id": "iNabf052Plcl"
      },
      "outputs": [],
      "source": [
        "CHECKPOINT_DIR = './train/'\n",
        "LOG_DIR = './logs/'"
      ]
    },
    {
      "cell_type": "code",
      "execution_count": null,
      "metadata": {
        "jupyter": {
          "source_hidden": true
        },
        "tags": [],
        "id": "wItJ23o_Plco"
      },
      "outputs": [],
      "source": [
        "callback = TrainAndLoggingCallback(check_freq=10000, save_path=CHECKPOINT_DIR)"
      ]
    },
    {
      "cell_type": "code",
      "execution_count": null,
      "metadata": {
        "colab": {
          "base_uri": "https://localhost:8080/"
        },
        "id": "UNqNLPOuPlcq",
        "outputId": "fc0639da-eeb9-4682-901c-5875243b08bd"
      },
      "outputs": [
        {
          "output_type": "stream",
          "name": "stdout",
          "text": [
            "Using cuda device\n",
            "Wrapping the env in a VecTransposeImage.\n"
          ]
        }
      ],
      "source": [
        "model = PPO('CnnPolicy', env, verbose=1, tensorboard_log=LOG_DIR, learning_rate=0.000001, \n",
        "            n_steps=512) "
      ]
    },
    {
      "cell_type": "code",
      "execution_count": null,
      "metadata": {
        "tags": [],
        "id": "-Xo93LPiPlcs"
      },
      "outputs": [],
      "source": [
        "model.learn(total_timesteps=10000, callback=callback)"
      ]
    },
    {
      "cell_type": "code",
      "execution_count": null,
      "metadata": {
        "id": "Rui0BdyEPlct"
      },
      "outputs": [],
      "source": [
        "model.save('thisisatestmodel')"
      ]
    },
    {
      "cell_type": "markdown",
      "metadata": {
        "id": "6rZGtM8_Plcv"
      },
      "source": [
        "WORKING THE MODEL"
      ]
    },
    {
      "cell_type": "code",
      "execution_count": null,
      "metadata": {
        "id": "aOqGlXodPlcw"
      },
      "outputs": [],
      "source": [
        "model = PPO.load('./train/best_model_1000000')"
      ]
    },
    {
      "cell_type": "code",
      "execution_count": null,
      "metadata": {
        "id": "rnuut716Plcx"
      },
      "outputs": [],
      "source": [
        "state = env.reset()"
      ]
    },
    {
      "cell_type": "code",
      "execution_count": null,
      "metadata": {
        "id": "n0N2VBdgPlcz"
      },
      "outputs": [],
      "source": [
        "state = env.reset()\n",
        "while True: \n",
        "    action, _ = model.predict(state)\n",
        "    state, reward, done, info = env.step(action)\n",
        "    env.render()"
      ]
    },
    {
      "cell_type": "code",
      "execution_count": null,
      "metadata": {
        "id": "z9qRIO7mPlc1"
      },
      "outputs": [],
      "source": [
        ""
      ]
    }
  ],
  "metadata": {
    "kernelspec": {
      "display_name": "mario",
      "language": "python",
      "name": "mario"
    },
    "language_info": {
      "codemirror_mode": {
        "name": "ipython",
        "version": 3
      },
      "file_extension": ".py",
      "mimetype": "text/x-python",
      "name": "python",
      "nbconvert_exporter": "python",
      "pygments_lexer": "ipython3",
      "version": "3.7.3"
    },
    "colab": {
      "name": "Mario Tutorial.ipynb",
      "provenance": []
    },
    "accelerator": "GPU",
    "gpuClass": "standard"
  },
  "nbformat": 4,
  "nbformat_minor": 0
}
